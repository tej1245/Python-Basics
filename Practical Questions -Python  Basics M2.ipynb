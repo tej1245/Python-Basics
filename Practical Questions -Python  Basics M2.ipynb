{
 "cells": [
  {
   "cell_type": "code",
   "execution_count": 1,
   "id": "1a9791bc",
   "metadata": {},
   "outputs": [
    {
     "name": "stdout",
     "output_type": "stream",
     "text": [
      "Hello, World!\n"
     ]
    }
   ],
   "source": [
    "# 1. Print \"Hello, World!\"\n",
    "print(\"Hello, World!\")"
   ]
  },
  {
   "cell_type": "code",
   "execution_count": 2,
   "id": "894a25cd",
   "metadata": {},
   "outputs": [
    {
     "name": "stdout",
     "output_type": "stream",
     "text": [
      "Name: Gangadhar Tejesh\n",
      "Age: 22\n"
     ]
    }
   ],
   "source": [
    "# 2. Display name and age\n",
    "name = \"Gangadhar Tejesh\"\n",
    "age = 22  # Example age\n",
    "print(\"Name:\", name)\n",
    "print(\"Age:\", age)"
   ]
  },
  {
   "cell_type": "code",
   "execution_count": 3,
   "id": "f0c87580",
   "metadata": {},
   "outputs": [
    {
     "name": "stdout",
     "output_type": "stream",
     "text": [
      "['False', 'None', 'True', 'and', 'as', 'assert', 'async', 'await', 'break', 'class', 'continue', 'def', 'del', 'elif', 'else', 'except', 'finally', 'for', 'from', 'global', 'if', 'import', 'in', 'is', 'lambda', 'nonlocal', 'not', 'or', 'pass', 'raise', 'return', 'try', 'while', 'with', 'yield']\n"
     ]
    }
   ],
   "source": [
    "# 3. Print all pre-defined keywords in Python\n",
    "import keyword\n",
    "print(keyword.kwlist)"
   ]
  },
  {
   "cell_type": "code",
   "execution_count": 4,
   "id": "2b2a0d3e",
   "metadata": {},
   "outputs": [
    {
     "name": "stdout",
     "output_type": "stream",
     "text": [
      "Enter a word: python\n",
      "'python' is not a Python keyword.\n"
     ]
    }
   ],
   "source": [
    "# 4. Check if a given word is a Python keyword\n",
    "word = input(\"Enter a word: \")\n",
    "if keyword.iskeyword(word):\n",
    "    print(f\"'{word}' is a Python keyword.\")\n",
    "else:\n",
    "    print(f\"'{word}' is not a Python keyword.\")\n"
   ]
  },
  {
   "cell_type": "code",
   "execution_count": 5,
   "id": "0c12bc5e",
   "metadata": {},
   "outputs": [
    {
     "name": "stdout",
     "output_type": "stream",
     "text": [
      "Tuples are immutable!\n"
     ]
    }
   ],
   "source": [
    "# 5. Demonstrate mutability of lists and immutability of tuples\n",
    "my_list = [1, 2, 3]\n",
    "my_tuple = (1, 2, 3)\n",
    "my_list[0] = 100  # Works\n",
    "try:\n",
    "    my_tuple[0] = 100  # Will raise an error\n",
    "except TypeError:\n",
    "    print(\"Tuples are immutable!\")"
   ]
  },
  {
   "cell_type": "code",
   "execution_count": 7,
   "id": "36191cc8",
   "metadata": {},
   "outputs": [
    {
     "name": "stdout",
     "output_type": "stream",
     "text": [
      "Immutable (int) after function call: 5\n",
      "Mutable (list) after function call: [1, 2, 3, 4]\n"
     ]
    }
   ],
   "source": [
    "# 6. Function demonstrating mutable and immutable arguments\n",
    "def modify_data(immutable, mutable):\n",
    "    immutable += 10  # Does not modify original integer\n",
    "    mutable.append(4)  # Modifies original list\n",
    "\n",
    "num = 5\n",
    "lst = [1, 2, 3]\n",
    "modify_data(num, lst)\n",
    "print(\"Immutable (int) after function call:\", num)  # Unchanged\n",
    "print(\"Mutable (list) after function call:\", lst)  # Changed"
   ]
  },
  {
   "cell_type": "code",
   "execution_count": 8,
   "id": "41931c72",
   "metadata": {},
   "outputs": [
    {
     "name": "stdout",
     "output_type": "stream",
     "text": [
      "a and b: False\n",
      "a or b: True\n",
      "not a: False\n"
     ]
    }
   ],
   "source": [
    "# 7. Demonstrate logical operators\n",
    "a, b = True, False\n",
    "print(\"a and b:\", a and b)\n",
    "print(\"a or b:\", a or b)\n",
    "print(\"not a:\", not a)"
   ]
  },
  {
   "cell_type": "code",
   "execution_count": 9,
   "id": "7a4048c9",
   "metadata": {},
   "outputs": [
    {
     "name": "stdout",
     "output_type": "stream",
     "text": [
      "Enter a number: 24\n",
      "Integer: 24\n",
      "Float: 24.0\n",
      "Boolean: True\n"
     ]
    }
   ],
   "source": [
    "# 8. Convert user input from string to int, float, and boolean\n",
    "user_input = input(\"Enter a number: \")\n",
    "print(\"Integer:\", int(user_input))\n",
    "print(\"Float:\", float(user_input))\n",
    "print(\"Boolean:\", bool(user_input))"
   ]
  },
  {
   "cell_type": "code",
   "execution_count": 10,
   "id": "95cd98f2",
   "metadata": {},
   "outputs": [
    {
     "name": "stdout",
     "output_type": "stream",
     "text": [
      "[1, 2, 3]\n"
     ]
    }
   ],
   "source": [
    "# 9. Type casting with list elements\n",
    "num_list = [\"1\", \"2\", \"3\"]\n",
    "int_list = list(map(int, num_list))\n",
    "print(int_list)\n"
   ]
  },
  {
   "cell_type": "code",
   "execution_count": 11,
   "id": "6a771b80",
   "metadata": {},
   "outputs": [
    {
     "name": "stdout",
     "output_type": "stream",
     "text": [
      "Enter a number: 23\n",
      "Positive\n"
     ]
    }
   ],
   "source": [
    "# 10. Check if a number is positive, negative, or zero\n",
    "num = int(input(\"Enter a number: \"))\n",
    "if num > 0:\n",
    "    print(\"Positive\")\n",
    "elif num < 0:\n",
    "    print(\"Negative\")\n",
    "else:\n",
    "    print(\"Zero\")\n"
   ]
  },
  {
   "cell_type": "code",
   "execution_count": 12,
   "id": "fb5521bb",
   "metadata": {},
   "outputs": [
    {
     "name": "stdout",
     "output_type": "stream",
     "text": [
      "1\n",
      "2\n",
      "3\n",
      "4\n",
      "5\n",
      "6\n",
      "7\n",
      "8\n",
      "9\n",
      "10\n"
     ]
    }
   ],
   "source": [
    "# 11. For loop to print numbers from 1 to 10\n",
    "for i in range(1, 11):\n",
    "    print(i)\n"
   ]
  },
  {
   "cell_type": "code",
   "execution_count": 13,
   "id": "c78c1d1a",
   "metadata": {},
   "outputs": [
    {
     "name": "stdout",
     "output_type": "stream",
     "text": [
      "Sum of even numbers: 650\n"
     ]
    }
   ],
   "source": [
    "# 12. Find the sum of all even numbers between 1 and 50\n",
    "even_sum = sum(i for i in range(1, 51) if i % 2 == 0)\n",
    "print(\"Sum of even numbers:\", even_sum)"
   ]
  },
  {
   "cell_type": "code",
   "execution_count": 15,
   "id": "0bacd089",
   "metadata": {},
   "outputs": [
    {
     "name": "stdout",
     "output_type": "stream",
     "text": [
      "Enter a string: bye\n",
      "Reversed string: eyb\n"
     ]
    }
   ],
   "source": [
    "# 13. Reverse a string using a while loop\n",
    "string = input(\"Enter a string: \")\n",
    "reversed_string = \"\"\n",
    "i = len(string) - 1\n",
    "while i >= 0:\n",
    "    reversed_string += string[i]\n",
    "    i -= 1\n",
    "print(\"Reversed string:\", reversed_string)"
   ]
  },
  {
   "cell_type": "code",
   "execution_count": 16,
   "id": "5ade4aa5",
   "metadata": {},
   "outputs": [
    {
     "name": "stdout",
     "output_type": "stream",
     "text": [
      "Enter a number: 23\n",
      "Factorial: 25852016738884976640000\n"
     ]
    }
   ],
   "source": [
    "# 14. Calculate factorial using a while loop\n",
    "num = int(input(\"Enter a number: \"))\n",
    "fact = 1\n",
    "i = num\n",
    "while i > 1:\n",
    "    fact *= i\n",
    "    i -= 1\n",
    "print(\"Factorial:\", fact)"
   ]
  },
  {
   "cell_type": "code",
   "execution_count": null,
   "id": "acfc281e",
   "metadata": {},
   "outputs": [],
   "source": []
  }
 ],
 "metadata": {
  "kernelspec": {
   "display_name": "Python 3 (ipykernel)",
   "language": "python",
   "name": "python3"
  },
  "language_info": {
   "codemirror_mode": {
    "name": "ipython",
    "version": 3
   },
   "file_extension": ".py",
   "mimetype": "text/x-python",
   "name": "python",
   "nbconvert_exporter": "python",
   "pygments_lexer": "ipython3",
   "version": "3.10.9"
  }
 },
 "nbformat": 4,
 "nbformat_minor": 5
}
